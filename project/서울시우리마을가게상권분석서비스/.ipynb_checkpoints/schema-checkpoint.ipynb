{
 "cells": [
  {
   "cell_type": "code",
   "execution_count": 11,
   "metadata": {},
   "outputs": [
    {
     "name": "stdout",
     "output_type": "stream",
     "text": [
      "[23, 18, 13, 7, 2, 0, 0, 0, 0, 0, 0, 0, 0, 0, 0, 0, 0, 15, 38, 64, 74, 63, 46, 35]\n",
      "('monday', '00:00:00', 23)\n",
      "('monday', '01:00:00', 23)\n"
     ]
    },
    {
     "data": {
      "text/plain": [
       "'ChIJG9QoK3akfDUR5CXdMyJ_RSE'"
      ]
     },
     "execution_count": 11,
     "metadata": {},
     "output_type": "execute_result"
    }
   ],
   "source": [
    "data1 = [{'id': 'ChIJG9QoK3akfDUR5CXdMyJ_RSE', 'name': 'Sim-Yang', 'address': '2 Cheongdam-dong, Gangnam-gu', 'types': ['restaurant', 'food', 'point_of_interest', 'establishment'], 'coordinates': {'lat': 37.5229812, 'lng': 127.0402214}, 'rating': 4.2, 'rating_n': 263, 'populartimes': [{'name': 'Monday', 'data': [23, 18, 13, 7, 2, 0, 0, 0, 0, 0, 0, 0, 0, 0, 0, 0, 0, 15, 38, 64, 74, 63, 46, 35]}, {'name': 'Tuesday', 'data': [27, 18, 11, 5, 1, 0, 0, 0, 0, 0, 0, 0, 0, 0, 0, 0, 0, 14, 41, 74, 85, 66, 44, 35]}, {'name': 'Wednesday', 'data': [33, 24, 13, 5, 1, 0, 0, 0, 0, 0, 0, 0, 0, 0, 0, 0, 0, 17, 47, 83, 97, 80, 57, 47]}, {'name': 'Thursday', 'data': [40, 26, 12, 3, 3, 1, 0, 0, 0, 0, 0, 0, 0, 0, 0, 0, 0, 10, 30, 58, 75, 66, 44, 32]}, {'name': 'Friday', 'data': [27, 23, 15, 8, 5, 1, 0, 0, 0, 0, 0, 0, 0, 0, 0, 0, 0, 20, 49, 80, 88, 72, 55, 50]}, {'name': 'Saturday', 'data': [49, 41, 26, 13, 6, 2, 0, 0, 0, 0, 0, 0, 0, 0, 0, 0, 0, 22, 51, 85, 100, 81, 51, 35]}, {'name': 'Sunday', 'data': [34, 34, 26, 15, 4, 2, 0, 0, 0, 0, 0, 0, 0, 0, 0, 0, 0, 32, 60, 77, 73, 53, 36, 27]}], 'time_wait': [{'name': 'Monday', 'data': [0, 0, 0, 0, 0, 0, 0, 0, 0, 0, 0, 0, 0, 0, 0, 0, 0, 0, 0, 0, 0, 0, 0, 0]}, {'name': 'Tuesday', 'data': [0, 0, 0, 0, 0, 0, 0, 0, 0, 0, 0, 0, 0, 0, 0, 0, 0, 0, 0, 0, 0, 0, 0, 0]}, {'name': 'Wednesday', 'data': [0, 0, 0, 0, 0, 0, 0, 0, 0, 0, 0, 0, 0, 0, 0, 0, 0, 0, 0, 15, 15, 0, 0, 0]}, {'name': 'Thursday', 'data': [0, 0, 0, 0, 0, 0, 0, 0, 0, 0, 0, 0, 0, 0, 0, 0, 0, 0, 0, 0, 0, 0, 0, 0]}, {'name': 'Friday', 'data': [0, 0, 0, 0, 0, 0, 0, 0, 0, 0, 0, 0, 0, 0, 0, 0, 0, 0, 0, 0, 15, 0, 0, 0]}, {'name': 'Saturday', 'data': [0, 0, 0, 0, 0, 0, 0, 0, 0, 0, 0, 0, 0, 0, 0, 0, 0, 0, 0, 15, 15, 15, 0, 0]}, {'name': 'Sunday', 'data': [0, 0, 0, 0, 0, 0, 0, 0, 0, 0, 0, 0, 0, 0, 0, 0, 0, 0, 0, 15, 15, 0, 0, 0]}], 'time_spent': [90, 150]}]\n",
    "mon = data1[0][\"populartimes\"][0][\"data\"]\n",
    "tue = data1[0][\"populartimes\"][1][\"data\"]\n",
    "wed=data1[0][\"populartimes\"][2][\"data\"]\n",
    "thur =data1[0][\"populartimes\"][3][\"data\"]\n",
    "fri =data1[0][\"populartimes\"][4][\"data\"]\n",
    "sat = data1[0][\"populartimes\"][5][\"data\"]\n",
    "sun = data1[0][\"populartimes\"][6][\"data\"]\n",
    "\n",
    "time_list = [\"00:00:00\",\"01:00:00\",\"02:00:00\",\"03:00:00\",\"04:00:00\",\"05:00:00\",\"06:00:00\",\"07:00:00\",\"08:00:00\",\"09:00:00\",\"10:00:00\",\"11:00:00\",\"12:00:00\",\"13:00:00\",\"14:00:00\",\"15:00:00\",\"16:00:00\",\"17:00:00\",\"18:00:00\",\"19:00:00\",\"20:00:00\",\"21:00:00\",\"22:00:00\",\"23:00:00\",\"24:00:00\"]\n",
    "print(mon)\n",
    "print((\"monday\",time_list[0],mon[0]))\n",
    "print((\"monday\",time_list[1],mon[0]))\n",
    "data1[0]['id']"
   ]
  },
  {
   "cell_type": "code",
   "execution_count": null,
   "metadata": {},
   "outputs": [],
   "source": [
    "#schema\n",
    "t1 = (id,str(code), code_name, name, address, lat, lng, types, rating, rating_n,timespent_min, timespent_max)\n",
    "\n",
    "[\n",
    "    {\n",
    "        \"name\": \"id\",\n",
    "        \"type\": \"STRING\",\n",
    "        \"mode\": \"NULLABLE\"\n",
    "    },\n",
    "    {\n",
    "        \"name\": \"code\",\n",
    "        \"type\": \"STRING\",\n",
    "        \"mode\": \"NULLABLE\"\n",
    "    },\n",
    "    {\n",
    "        \"name\": \"code_name\",\n",
    "        \"type\": \"STRING\",\n",
    "        \"mode\": \"NULLABLE\"\n",
    "    },\n",
    "    {\n",
    "        \"name\": \"store_name\",\n",
    "        \"type\": \"STRING\",\n",
    "        \"mode\": \"NULLABLE\"\n",
    "    },\n",
    "    {\n",
    "        \"name\": \"address\",\n",
    "        \"type\": \"STRING\",\n",
    "        \"mode\": \"NULLABLE\"\n",
    "    },\n",
    "    {\n",
    "        \"name\": \"lat\",\n",
    "        \"type\": \"FLOAT\",\n",
    "        \"mode\": \"NULLABLE\"\n",
    "    },\n",
    "    {\n",
    "        \"name\": \"lng\",\n",
    "        \"type\": \"FLOAT\",\n",
    "        \"mode\": \"NULLABLE\"\n",
    "    },\n",
    "    {\n",
    "        \"name\": \"types\",\n",
    "        \"type\": \"STRING\",\n",
    "        \"mode\": \"REPEATED\"\n",
    "    },\n",
    "    {\n",
    "        \"name\": \"rating\",\n",
    "        \"type\": \"FLOAT\",\n",
    "        \"mode\": \"NULLABLE\"\n",
    "    },\n",
    "    {\n",
    "        \"name\": \"rating_n\",\n",
    "        \"type\": \"INTEGER\",\n",
    "        \"mode\": \"NULLABLE\"\n",
    "    },\n",
    "    {\n",
    "        \"name\": \"timespent_min\",\n",
    "        \"type\": \"INTEGER\",\n",
    "        \"mode\": \"NULLABLE\"\n",
    "    },\n",
    "    {\n",
    "        \"name\": \"timespent_max\",\n",
    "        \"type\": \"INTEGER\",\n",
    "        \"mode\": \"NULLABLE\"\n",
    "    }\n",
    "]"
   ]
  },
  {
   "cell_type": "code",
   "execution_count": null,
   "metadata": {},
   "outputs": [],
   "source": [
    "t2 = (id,code,day, time, data1[0][\"populartimes\"][i][\"data\"][j])\n",
    "\n",
    "[\n",
    "    {\n",
    "        \"name\": \"id\",\n",
    "        \"type\": \"STRING\",\n",
    "        \"mode\": \"NULLABLE\"\n",
    "    },\n",
    "    {\n",
    "        \"name\": \"code\",\n",
    "        \"type\": \"STRING\",\n",
    "        \"mode\": \"NULLABLE\"\n",
    "    },\n",
    "    {\n",
    "        \"name\": \"dayofweek\",\n",
    "        \"type\": \"STRING\",\n",
    "        \"mode\": \"NULLABLE\"\n",
    "    },\n",
    "    {\n",
    "        \"name\": \"hour\",\n",
    "        \"type\": \"TIME\",\n",
    "        \"mode\": \"NULLABLE\"\n",
    "    },\n",
    "    {\n",
    "        \"name\": \"popular_data\",\n",
    "        \"type\": \"INTEGER\",\n",
    "        \"mode\": \"NULLABLE\"\n",
    "    }\n",
    "]"
   ]
  }
 ],
 "metadata": {
  "kernelspec": {
   "display_name": "Python 3",
   "language": "python",
   "name": "python3"
  },
  "language_info": {
   "codemirror_mode": {
    "name": "ipython",
    "version": 3
   },
   "file_extension": ".py",
   "mimetype": "text/x-python",
   "name": "python",
   "nbconvert_exporter": "python",
   "pygments_lexer": "ipython3",
   "version": "3.7.4"
  }
 },
 "nbformat": 4,
 "nbformat_minor": 2
}
