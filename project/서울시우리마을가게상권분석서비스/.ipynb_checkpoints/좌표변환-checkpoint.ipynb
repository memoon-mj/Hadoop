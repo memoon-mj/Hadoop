{
 "cells": [
  {
   "cell_type": "code",
   "execution_count": 63,
   "metadata": {
    "scrolled": true
   },
   "outputs": [
    {
     "name": "stdout",
     "output_type": "stream",
     "text": [
      "{'TRDAR_SE_C': 'D', 'TRDAR_SE_1': '발달상권', 'TRDAR_CD': '1001161', 'TRDAR_CD_N': '건대입구역', 'XCNTS_VALU': 206329, 'YDNTS_VALU': 448779, 'SIGNGU_CD': '11215', 'ADSTRD_CD': '11215840', 'STDR_YM_CD': '201810'}\n",
      "[[206475.189999998, 448843.659999996], [206560.959999993, 448815.509999998], [206561.29999999702, 448827.449999996], [206581.019999996, 448821.409999996], [206558.36999999703, 448726.46999999904], [206553.819999993, 448707.549999997], [206437.389999993, 448747.93999999797], [206353.16999999402, 448774.16999999405], [206335.86, 448732.66999999405], [206316.439999998, 448686.14999999903], [206285.689999998, 448606.319999993], [206283.399999999, 448607.28999999905], [206214.11, 448637.0], [206137.149999999, 448668.5], [206138.41999999402, 448672.259999998], [206153.569999993, 448711.10999999905], [206178.71999999898, 448776.569999993], [206195.079999998, 448820.0], [206216.229999997, 448876.09999999404], [206239.61, 448938.159999996], [206475.189999998, 448843.659999996]]\n",
      "\n",
      "206475.189999998\n",
      "448843.659999996\n",
      "206239.61\n",
      "448938.159999996\n"
     ]
    }
   ],
   "source": [
    "{'type': 'Feature', 'properties': {'TRDAR_SE_C': 'D', 'TRDAR_SE_1': '발달상권', 'TRDAR_CD': '1001161', 'TRDAR_CD_N': '건대입구역', 'XCNTS_VALU': 206329, 'YDNTS_VALU': 448779, 'SIGNGU_CD': '11215', 'ADSTRD_CD': '11215840', 'STDR_YM_CD': '201810'}, 'geometry': {'type': 'Polygon', 'coordinates': [[[206475.189999998, 448843.659999996], [206560.959999993, 448815.509999998], [206561.29999999702, 448827.449999996], [206581.019999996, 448821.409999996], [206558.36999999703, 448726.46999999904], [206553.819999993, 448707.549999997], [206437.389999993, 448747.93999999797], [206353.16999999402, 448774.16999999405], [206335.86, 448732.66999999405], [206316.439999998, 448686.14999999903], [206285.689999998, 448606.319999993], [206283.399999999, 448607.28999999905], [206214.11, 448637.0], [206137.149999999, 448668.5], [206138.41999999402, 448672.259999998], [206153.569999993, 448711.10999999905], [206178.71999999898, 448776.569999993], [206195.079999998, 448820.0], [206216.229999997, 448876.09999999404], [206239.61, 448938.159999996], [206475.189999998, 448843.659999996]]]}},"
   ]
  },
  {
   "cell_type": "code",
   "execution_count": 248,
   "metadata": {},
   "outputs": [
    {
     "name": "stdout",
     "output_type": "stream",
     "text": [
      "[190933.819999993, 440662.409999996]\n",
      "[190943.86, 440791.39999999903]\n",
      "{'type': 'Feature', 'properties': {'TRDAR_SE_C': 'D', 'TRDAR_SE_1': '발달상권', 'TRDAR_CD': '1001249', 'TRDAR_CD_N': '서울 은평구 불광역_2', 'XCNTS_VALU': 193889, 'YDNTS_VALU': 456757, 'SIGNGU_CD': '11380', 'ADSTRD_CD': '11380520', 'STDR_YM_CD': '201810'}, 'geometry': {'type': 'Polygon', 'coordinates': [[[193976.729999997, 456650.85999999905], [193918.659999996, 456610.93], [193899.5, 456637.78999999905], [193892.229999997, 456647.95999999304], [193871.039999999, 456677.86999999697], [193836.379999995, 456727.5], [193771.349999994, 456821.309999995], [193822.069999993, 456844.59999999404], [193846.949999996, 456856.049999997], [193868.959999993, 456875.84999999404], [193887.05999999502, 456896.229999997], [193948.899999999, 456805.819999993], [193927.139999993, 456791.589999996], [193957.019999996, 456744.659999996], [193963.759999998, 456734.09999999404], [193971.91999999402, 456721.25], [193981.29999999702, 456706.53999999905], [193962.979999997, 456695.02999999403], [193976.729999997, 456650.85999999905]]]}}\n",
      "\n"
     ]
    }
   ],
   "source": [
    "import json\n",
    "import csv\n",
    "\n",
    "\n",
    "with open('TBGIS_TRDAR_RELM.json','r') as jsonfile:\n",
    "    data =jsonfile.read()\n",
    "\n",
    "jsonobj = json.loads(data)\n",
    "jsonobj[\"features\"][1000][\"geometry\"][\"coordinates\"][0][0]\n",
    "print(jsonobj[\"features\"][10][\"geometry\"][\"coordinates\"][0][0])\n",
    "print(jsonobj[\"features\"][10][\"geometry\"][\"coordinates\"][0][-2])\n",
    "print(jsonobj[\"features\"][1100])\n",
    "print()\n",
    "#print(jsonobj[\"features\"][1100][\"geometry\"][\"coordinates\"][0][1])\n",
    "#print(jsonobj[\"features\"][1100][\"geometry\"][\"coordinates\"][0][-2])"
   ]
  },
  {
   "cell_type": "code",
   "execution_count": null,
   "metadata": {},
   "outputs": [],
   "source": [
    "{'type': 'Polygon',\n",
    " 'coordinates': [[[190933.819999993, 440662.409999996],\n",
    "   [190931.269999996, 440628.629999995],\n",
    "   [190872.769999996, 440632.009999998],\n",
    "   [190858.819999993, 440635.93],\n",
    "   [190871.21999999898, 440792.379999995],\n",
    "   [190804.36999999703, 440793.28999999905],\n",
    "   [190785.459999993, 440793.52999999403],\n",
    "   [190685.349999994, 440794.909999996],\n",
    "   [190669.839999996, 440839.36999999697],\n",
    "   [190666.16999999402, 440849.889999993],\n",
    "   [190715.579999998, 440867.229999997],\n",
    "   [190770.21999999898, 440886.36999999697],\n",
    "   [190747.389999993, 440949.93999999797],\n",
    "   [190809.79999999702, 440967.229999997],\n",
    "   [190957.459999993, 440961.41999999405],\n",
    "   [190943.939999998, 440792.39999999903],\n",
    "   [190943.86, 440791.39999999903],\n",
    "   [190933.819999993, 440662.409999996]]]}"
   ]
  },
  {
   "cell_type": "code",
   "execution_count": 36,
   "metadata": {},
   "outputs": [
    {
     "name": "stdout",
     "output_type": "stream",
     "text": [
      "['R', '1001454', '봉천제일종합시장', '전통시장', 193075.41999999402, 450379.84999999404, 193105.91999999402, 450500.739999995]\n"
     ]
    }
   ],
   "source": [
    "keylist = []\n",
    "for key in jsonobj[\"features\"][0]:\n",
    "    keylist.append(key)\n",
    "\n",
    "\n",
    "#for key in jsonobj[\"properie\"]\n",
    "상권_구분_코드=jsonobj[\"features\"][1][\"properties\"]['TRDAR_SE_C']\n",
    "상권_코드=jsonobj[\"features\"][1][\"properties\"]['TRDAR_CD']\n",
    "상권_코드_명 = jsonobj[\"features\"][1][\"properties\"]['TRDAR_CD_N']\n",
    "상권_구분_코드_{'type': 'Feature',\n",
    "  'properties': {'TRDAR_SE_C': 'R',\n",
    "   'TRDAR_SE_1': '전통시장',\n",
    "   'TRDAR_CD': '1001453',\n",
    "   'TRDAR_CD_N': '낙성대시장',\n",
    "   'XCNTS_VALU': 196121,\n",
    "   'YDNTS_VALU': 442084,\n",
    "   'SIGNGU_CD': '11620',\n",
    "   'ADSTRD_CD': '11620585',\n",
    "   'STDR_YM_CD': '201810'},\n",
    "  'geometry': {'type': 'Polygon',\n",
    "   'coordinates': [[[196213.759999998, 442152.079999998],\n",
    "     [196186.889999993, 442092.16999999405],\n",
    "     [196171.909999996, 442052.069999993],\n",
    "     [196168.79999999702, 442042.21999999904],\n",
    "     [196143.54999999702, 442050.579999998],\n",
    "     [196133.389999993, 442018.52999999403],\n",
    "     [196158.629999995, 442010.43],\n",
    "     [196154.41999999402, 441997.629999995],\n",
    "     [196125.759999998, 442006.829999998],\n",
    "     [196097.729999997, 442015.839999996],\n",
    "     [196040.0, 442034.41999999405],\n",
    "     [196070.25, 442128.36999999697],\n",
    "     [196067.21999999898, 442148.89999999903],\n",
    "     [196156.71999999898, 442134.46999999904],\n",
    "     [196198.239999995, 442159.229999997],\n",
    "     [196213.759999998, 442152.079999998]]]}}명 =jsonobj[\"features\"][0][\"properties\"]['TRDAR_SE_1']\n",
    "#경계 point 2개 선택/min, max에 가까운 두 좌표를 선택한다.\n",
    "엑스좌표_값=jsonobj[\"features\"][1000][\"geometry\"][\"coordinates\"][0][1][0]\n",
    "엑스좌표_값1=jsonobj[\"features\"][1000][\"geometry\"][\"coordinates\"][0][1][1]\n",
    "와이좌표_값=jsonobj[\"features\"][1000][\"geometry\"][\"coordinates\"][0][-2][0]\n",
    "와이좌표_값1=jsonobj[\"features\"][1000][\"geometry\"][\"coordinates\"][0][-2][1]\n",
    "\n",
    "#[195236.25, 442375.96999999904], [195117.009999998, 442441.95999999304]]\n",
    "list = [상권_구분_코드,상권_코드,상권_코드_명,상권_구분_코드_명, 엑스좌표_값,엑스좌표_값1, 와이좌표_값, 와이좌표_값1]\n",
    "print(list)\n",
    "\n",
    "        x=jsonobj[\"features\"][i][\"geometry\"][\"coordinates\"][0][1][0]\n",
    "        y=jsonobj[\"features\"][i][\"geometry\"][\"coordinates\"][0][1][1]\n",
    "        x1=jsonobj[\"features\"][i][\"geometry\"][\"coordinates\"][0][-2][0]\n",
    "        y1=jsonobj[\"features\"][i][\"geometry\"][\"coordinates\"][0][-2][1]"
   ]
  },
  {
   "cell_type": "code",
   "execution_count": 189,
   "metadata": {},
   "outputs": [
    {
     "name": "stdout",
     "output_type": "stream",
     "text": [
      "1496\n"
     ]
    }
   ],
   "source": [
    "import csv\n",
    "count = len(jsonobj[\"features\"])\n",
    "print(count)\n",
    "f = open('상권_좌표.csv', 'w', encoding ='utf-8')\n",
    "wr = csv.writer(f)\n",
    "for i in range(count):\n",
    "    상권_구분_코드=jsonobj[\"features\"][i][\"properties\"]['TRDAR_SE_C']\n",
    "    상권_코드=jsonobj[\"features\"][i][\"properties\"]['TRDAR_CD']\n",
    "    상권_코드_명 = jsonobj[\"features\"][i][\"properties\"]['TRDAR_CD_N']\n",
    "    상권_구분_코드_명 =jsonobj[\"features\"][i][\"properties\"]['TRDAR_SE_1']\n",
    "    if(jsonobj[\"features\"][i][\"geometry\"]['type'] == 'Polygon'):\n",
    "        x=jsonobj[\"features\"][i][\"geometry\"][\"coordinates\"][0][1][0]\n",
    "        y=jsonobj[\"features\"][i][\"geometry\"][\"coordinates\"][0][1][1]\n",
    "        x1=jsonobj[\"features\"][i][\"geometry\"][\"coordinates\"][0][-2][0]\n",
    "        y1=jsonobj[\"features\"][i][\"geometry\"][\"coordinates\"][0][-2][1]\n",
    "       \n",
    "\n",
    "    else:\n",
    "        x=jsonobj[\"features\"][i][\"geometry\"][\"coordinates\"][0][0][1][0]\n",
    "        y=jsonobj[\"features\"][i][\"geometry\"][\"coordinates\"][0][0][1][1]\n",
    "        x1=jsonobj[\"features\"][i][\"geometry\"][\"coordinates\"][0][0][-2][0]\n",
    "        y1=jsonobj[\"features\"][i][\"geometry\"][\"coordinates\"][0][0][-2][1]\n",
    "\n",
    "        \n",
    "    insert_row = [상권_구분_코드,상권_코드,상권_코드_명,상권_구분_코드_명,x,y,x1,y1]\n",
    "    wr.writerow(insert_row)\n",
    "f.close()"
   ]
  },
  {
   "cell_type": "code",
   "execution_count": 217,
   "metadata": {},
   "outputs": [
    {
     "data": {
      "text/plain": [
       "1496"
      ]
     },
     "execution_count": 217,
     "metadata": {},
     "output_type": "execute_result"
    }
   ],
   "source": [
    "import pandas as pd\n",
    "o = pd.read_csv(\"output.csv\")\n",
    "ex = o\n",
    "o.head()\n",
    "len(o)"
   ]
  },
  {
   "cell_type": "code",
   "execution_count": 221,
   "metadata": {},
   "outputs": [
    {
     "name": "stderr",
     "output_type": "stream",
     "text": [
      "c:\\users\\nb42\\appdata\\local\\programs\\python\\python37\\lib\\site-packages\\ipykernel_launcher.py:6: SettingWithCopyWarning: \n",
      "A value is trying to be set on a copy of a slice from a DataFrame\n",
      "\n",
      "See the caveats in the documentation: http://pandas.pydata.org/pandas-docs/stable/user_guide/indexing.html#returning-a-view-versus-a-copy\n",
      "  \n",
      "c:\\users\\nb42\\appdata\\local\\programs\\python\\python37\\lib\\site-packages\\ipykernel_launcher.py:7: SettingWithCopyWarning: \n",
      "A value is trying to be set on a copy of a slice from a DataFrame\n",
      "\n",
      "See the caveats in the documentation: http://pandas.pydata.org/pandas-docs/stable/user_guide/indexing.html#returning-a-view-versus-a-copy\n",
      "  import sys\n"
     ]
    },
    {
     "data": {
      "text/plain": [
       "124.84982322950293"
      ]
     },
     "execution_count": 221,
     "metadata": {},
     "output_type": "execute_result"
    }
   ],
   "source": [
    "from pyproj import Proj, transform\n",
    "import numpy as np\n",
    "proj_UTMK = Proj(init = 'epsg:5181')\n",
    "proj_WGS84 = Proj(init = 'epsg:4326')\n",
    "for i in range(len(ex)):\n",
    "    ex['x'][i], ex['y'][i] = transform(proj_UTMK, proj_WGS84, ex['x'][i], ex['y'][i])\n",
    "    ex['x1'][i], ex['y1'][i] = transform(proj_UTMK, proj_WGS84, ex['x1'][i], ex['y1'][i])\n",
    "\n",
    "#x1,y1 = 194426,450896\n",
    "#x2,y2 = transform(proj_UTMK, proj_WGS84, x1, y1)\n",
    "\n"
   ]
  },
  {
   "cell_type": "code",
   "execution_count": 207,
   "metadata": {},
   "outputs": [
    {
     "data": {
      "text/html": [
       "<div>\n",
       "<style scoped>\n",
       "    .dataframe tbody tr th:only-of-type {\n",
       "        vertical-align: middle;\n",
       "    }\n",
       "\n",
       "    .dataframe tbody tr th {\n",
       "        vertical-align: top;\n",
       "    }\n",
       "\n",
       "    .dataframe thead th {\n",
       "        text-align: right;\n",
       "    }\n",
       "</style>\n",
       "<table border=\"1\" class=\"dataframe\">\n",
       "  <thead>\n",
       "    <tr style=\"text-align: right;\">\n",
       "      <th></th>\n",
       "      <th>상권_구분_코드</th>\n",
       "      <th>상권_코드</th>\n",
       "      <th>상권_코드_명</th>\n",
       "      <th>상권_구분_코드_명</th>\n",
       "      <th>x</th>\n",
       "      <th>y</th>\n",
       "      <th>x1</th>\n",
       "      <th>y1</th>\n",
       "    </tr>\n",
       "  </thead>\n",
       "  <tbody>\n",
       "    <tr>\n",
       "      <th>0</th>\n",
       "      <td>R</td>\n",
       "      <td>1001453</td>\n",
       "      <td>낙성대시장</td>\n",
       "      <td>전통시장</td>\n",
       "      <td>196186.89</td>\n",
       "      <td>442092.17</td>\n",
       "      <td>196198.24</td>\n",
       "      <td>442159.23</td>\n",
       "    </tr>\n",
       "    <tr>\n",
       "      <th>1</th>\n",
       "      <td>R</td>\n",
       "      <td>1001454</td>\n",
       "      <td>봉천제일종합시장</td>\n",
       "      <td>전통시장</td>\n",
       "      <td>195236.25</td>\n",
       "      <td>442375.97</td>\n",
       "      <td>195117.01</td>\n",
       "      <td>442441.96</td>\n",
       "    </tr>\n",
       "    <tr>\n",
       "      <th>2</th>\n",
       "      <td>R</td>\n",
       "      <td>1001474</td>\n",
       "      <td>도곡시장</td>\n",
       "      <td>전통시장</td>\n",
       "      <td>204643.43</td>\n",
       "      <td>444178.42</td>\n",
       "      <td>204620.79</td>\n",
       "      <td>444238.43</td>\n",
       "    </tr>\n",
       "    <tr>\n",
       "      <th>3</th>\n",
       "      <td>R</td>\n",
       "      <td>1001475</td>\n",
       "      <td>강남개포시장</td>\n",
       "      <td>전통시장</td>\n",
       "      <td>206105.89</td>\n",
       "      <td>443345.88</td>\n",
       "      <td>205995.72</td>\n",
       "      <td>443290.14</td>\n",
       "    </tr>\n",
       "    <tr>\n",
       "      <th>4</th>\n",
       "      <td>R</td>\n",
       "      <td>1001412</td>\n",
       "      <td>화곡본동시장</td>\n",
       "      <td>전통시장</td>\n",
       "      <td>186195.02</td>\n",
       "      <td>449232.99</td>\n",
       "      <td>186225.90</td>\n",
       "      <td>449259.88</td>\n",
       "    </tr>\n",
       "  </tbody>\n",
       "</table>\n",
       "</div>"
      ],
      "text/plain": [
       "  상권_구분_코드    상권_코드   상권_코드_명 상권_구분_코드_명          x          y         x1  \\\n",
       "0        R  1001453     낙성대시장       전통시장  196186.89  442092.17  196198.24   \n",
       "1        R  1001454  봉천제일종합시장       전통시장  195236.25  442375.97  195117.01   \n",
       "2        R  1001474      도곡시장       전통시장  204643.43  444178.42  204620.79   \n",
       "3        R  1001475    강남개포시장       전통시장  206105.89  443345.88  205995.72   \n",
       "4        R  1001412    화곡본동시장       전통시장  186195.02  449232.99  186225.90   \n",
       "\n",
       "          y1  \n",
       "0  442159.23  \n",
       "1  442441.96  \n",
       "2  444238.43  \n",
       "3  443290.14  \n",
       "4  449259.88  "
      ]
     },
     "execution_count": 207,
     "metadata": {},
     "output_type": "execute_result"
    }
   ],
   "source": [
    "ex.head()"
   ]
  },
  {
   "cell_type": "code",
   "execution_count": 201,
   "metadata": {},
   "outputs": [
    {
     "data": {
      "text/plain": [
       "0       442092.17\n",
       "1       442375.97\n",
       "2       444178.42\n",
       "3       443345.88\n",
       "4       449232.99\n",
       "          ...    \n",
       "1491    443219.96\n",
       "1492    442663.29\n",
       "1493    442376.16\n",
       "1494    442555.45\n",
       "1495    442810.69\n",
       "Name: y, Length: 1496, dtype: float64"
      ]
     },
     "execution_count": 201,
     "metadata": {},
     "output_type": "execute_result"
    }
   ],
   "source": [
    "ex['x']\n",
    "ex['y']"
   ]
  },
  {
   "cell_type": "code",
   "execution_count": null,
   "metadata": {},
   "outputs": [],
   "source": [
    "from pyproj import Proj, transform\n",
    "import numpy as np\n",
    "#좌표계 정보 : GRS80TM\n",
    "#구글 좌표계 : *WGS84 경위도\n",
    "\n",
    "proj_UTMK = Proj(init = 'epsg:5181')\n",
    "proj_WGS84 = Proj(init = 'epsg:4326')\n",
    "\n",
    "x1,y1 = 194426,450896\n",
    "x2,y2 = transform(proj_UTMK, proj_WGS84, x1, y1)\n",
    "print(x2,y2)"
   ]
  },
  {
   "cell_type": "code",
   "execution_count": 223,
   "metadata": {},
   "outputs": [
    {
     "data": {
      "text/plain": [
       "298.396084"
      ]
     },
     "execution_count": 223,
     "metadata": {},
     "output_type": "execute_result"
    }
   ],
   "source": []
  }
 ],
 "metadata": {
  "kernelspec": {
   "display_name": "Python 3",
   "language": "python",
   "name": "python3"
  },
  "language_info": {
   "codemirror_mode": {
    "name": "ipython",
    "version": 3
   },
   "file_extension": ".py",
   "mimetype": "text/x-python",
   "name": "python",
   "nbconvert_exporter": "python",
   "pygments_lexer": "ipython3",
   "version": "3.7.4"
  }
 },
 "nbformat": 4,
 "nbformat_minor": 2
}
